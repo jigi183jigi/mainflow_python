{
 "cells": [
  {
   "cell_type": "code",
   "execution_count": 4,
   "id": "59a28391",
   "metadata": {},
   "outputs": [
    {
     "name": "stdout",
     "output_type": "stream",
     "text": [
      "Welcome to the Simple Command-Line Calculator!\n",
      "Available operations:\n",
      "1. Addition (+)\n",
      "2. Subtraction (-)\n",
      "3. Multiplication (*)\n",
      "4. Division (/)\n",
      "Enter the operation (+, -, *, /) or 'quit' to exit: /\n",
      "Enter the first number: 20\n",
      "Enter the second number: 0\n",
      "The result is: Error: Division by zero is not allowed.\n",
      "Enter the operation (+, -, *, /) or 'quit' to exit: -\n",
      "Enter the first number: 32\n",
      "Enter the second number: 32\n",
      "The result is: 0.0\n",
      "Enter the operation (+, -, *, /) or 'quit' to exit: Quit\n",
      "Thank you for using the calculator. Goodbye!\n"
     ]
    }
   ],
   "source": [
    "def add(x, y):\n",
    "    return x + y\n",
    "\n",
    "def subtract(x, y):\n",
    "    return x - y\n",
    "\n",
    "def multiply(x, y):\n",
    "    return x * y\n",
    "\n",
    "def divide(x, y):\n",
    "    if y == 0:\n",
    "        return \"Error: Division by zero is not allowed.\"\n",
    "    return x / y\n",
    "\n",
    "def main():\n",
    "    print(\"Welcome to the Simple Command-Line Calculator!\")\n",
    "    print(\"Available operations:\")\n",
    "    print(\"1. Addition (+)\")\n",
    "    print(\"2. Subtraction (-)\")\n",
    "    print(\"3. Multiplication (*)\")\n",
    "    print(\"4. Division (/)\")\n",
    "    \n",
    "    while True:\n",
    "        operation = input(\"Enter the operation (+, -, *, /) or 'quit' to exit: \").strip()\n",
    "        if operation.lower() == 'quit':\n",
    "            print(\"Thank you for using the calculator. Goodbye!\")\n",
    "            break\n",
    "\n",
    "        if operation not in ['+', '-', '*', '/']:\n",
    "            print(\"Invalid operation. Please try again.\")\n",
    "            continue\n",
    "        \n",
    "        try:\n",
    "            num1 = float(input(\"Enter the first number: \").strip())\n",
    "            num2 = float(input(\"Enter the second number: \").strip())\n",
    "        except ValueError:\n",
    "            print(\"Invalid input. Please enter numerical values.\")\n",
    "            continue\n",
    "\n",
    "        if operation == '+':\n",
    "            result = add(num1, num2)\n",
    "        elif operation == '-':\n",
    "            result = subtract(num1, num2)\n",
    "        elif operation == '*':\n",
    "            result = multiply(num1, num2)\n",
    "        elif operation == '/':\n",
    "            result = divide(num1, num2)\n",
    "\n",
    "        print(f\"The result is: {result}\")\n",
    "\n",
    "if __name__ == \"__main__\":\n",
    "    main()\n"
   ]
  },
  {
   "cell_type": "code",
   "execution_count": null,
   "id": "aabd31a5",
   "metadata": {},
   "outputs": [
    {
     "name": "stdout",
     "output_type": "stream",
     "text": [
      "Welcome to the Real-Time Command-Line Calculator!\n",
      "You can enter complex expressions like '23+67*67'\n",
      "Type 'quit' to exit the calculator.\n",
      "Enter the expression to evaluate or 'quit' to exit: 23*87+52/2\n",
      "The result is: 2027.0\n"
     ]
    }
   ],
   "source": [
    "def main():\n",
    "    print(\"Welcome to the Real-Time Command-Line Calculator!\")\n",
    "    print(\"You can enter complex expressions like '23+67*67'\")\n",
    "    print(\"Type 'quit' to exit the calculator.\")\n",
    "    \n",
    "    while True:\n",
    "        expression = input(\"Enter the expression to evaluate or 'quit' to exit: \").strip()\n",
    "        if expression.lower() == 'quit':\n",
    "            print(\"Thank you for using the calculator. Goodbye!\")\n",
    "            break\n",
    "\n",
    "        try:\n",
    "            # Evaluate the expression\n",
    "            result = eval(expression)\n",
    "            print(f\"The result is: {result}\")\n",
    "        except Exception as e:\n",
    "            print(f\"Error: {e}. Please enter a valid expression.\")\n",
    "\n",
    "if __name__ == \"__main__\":\n",
    "    main()\n"
   ]
  },
  {
   "cell_type": "code",
   "execution_count": null,
   "id": "d9a9938f",
   "metadata": {},
   "outputs": [],
   "source": []
  }
 ],
 "metadata": {
  "kernelspec": {
   "display_name": "Python 3 (ipykernel)",
   "language": "python",
   "name": "python3"
  },
  "language_info": {
   "codemirror_mode": {
    "name": "ipython",
    "version": 3
   },
   "file_extension": ".py",
   "mimetype": "text/x-python",
   "name": "python",
   "nbconvert_exporter": "python",
   "pygments_lexer": "ipython3",
   "version": "3.9.13"
  }
 },
 "nbformat": 4,
 "nbformat_minor": 5
}
