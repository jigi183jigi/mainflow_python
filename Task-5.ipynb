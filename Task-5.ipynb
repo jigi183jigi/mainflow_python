{
 "cells": [
  {
   "cell_type": "markdown",
   "id": "51d22e8b",
   "metadata": {},
   "source": [
    "# Task-5"
   ]
  },
  {
   "cell_type": "markdown",
   "id": "bb7cedfd",
   "metadata": {},
   "source": [
    "# Currency Converter using python GUI"
   ]
  },
  {
   "cell_type": "code",
   "execution_count": 4,
   "id": "9e96b13f",
   "metadata": {},
   "outputs": [
    {
     "name": "stdout",
     "output_type": "stream",
     "text": [
      "1004.7961542017193\n"
     ]
    }
   ],
   "source": [
    "from currency_converter import CurrencyConverter\n",
    "\n",
    "c = CurrencyConverter()\n",
    "print(c.convert(12, \"USD\", \"INR\"))\n"
   ]
  },
  {
   "cell_type": "code",
   "execution_count": null,
   "id": "cf8479cc",
   "metadata": {},
   "outputs": [],
   "source": [
    "import tkinter as tk\n",
    "\n",
    "window = tk.Tk()\n",
    "window.geometry(\"500x360\") \n",
    "\n",
    "window.title(\"Currency Converter\")\n",
    "\n",
    "def clicked():\n",
    "    amount = int(entry1.get())\n",
    "    cur1 = entry2.get()\n",
    "    cur2 = entry3.get()\n",
    "    data = c.convert(amount,cur1,cur2)\n",
    "    label4 = tk.Label(window,text=data,font = \"Times 16 bold\").place(x=200,y=300)\n",
    "    \n",
    "\n",
    "\n",
    "label = tk.Label(window,text = \"Currency Converter\",font = \"Times 20 bold\").place(x=120,y=40)\n",
    "\n",
    "label1 = tk.Label(window,text = \"Enter amount here: \",font = \"Times 16 bold\").place(x=70,y=100)\n",
    "entry1 = tk.Entry(window)\n",
    "\n",
    "label2 = tk.Label(window,text = \"Enter your currency here: \",font = \"Times 16 bold\").place(x=30,y=150)\n",
    "entry2 = tk.Entry(window)\n",
    "\n",
    "label3 = tk.Label(window,text = \"Enter your desired currency: \",font = \"Times 16 bold\").place(x=15,y=200)\n",
    "entry3 = tk.Entry(window)\n",
    "\n",
    "button = tk.Button(window,text = \"click\",font = \"Times 16 bold\", command=clicked).place(x=220,y=250)\n",
    "\n",
    "entry1.place(x=270,y=105)\n",
    "entry2.place(x=270,y=155)\n",
    "entry3.place(x=270,y=205)\n",
    "window.mainloop()"
   ]
  },
  {
   "cell_type": "code",
   "execution_count": null,
   "id": "4fc3d558",
   "metadata": {},
   "outputs": [],
   "source": []
  }
 ],
 "metadata": {
  "kernelspec": {
   "display_name": "Python (myenv)",
   "language": "python",
   "name": "myenv"
  },
  "language_info": {
   "codemirror_mode": {
    "name": "ipython",
    "version": 3
   },
   "file_extension": ".py",
   "mimetype": "text/x-python",
   "name": "python",
   "nbconvert_exporter": "python",
   "pygments_lexer": "ipython3",
   "version": "3.11.5"
  }
 },
 "nbformat": 4,
 "nbformat_minor": 5
}
